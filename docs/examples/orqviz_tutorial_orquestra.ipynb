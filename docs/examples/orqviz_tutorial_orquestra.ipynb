{
 "cells": [
  {
   "cell_type": "markdown",
   "id": "7c804975",
   "metadata": {},
   "source": [
    "## Orqviz demo - How to get started (using Orquestra!)\n",
    "\n",
    "This notebook demonstrates how to get started with the _orqviz_ python package by Zapata Computing, Inc.\n",
    "The quantum computing framework used here is Zapata's _Orquestra Core_.\n",
    "\n",
    "The example algorithm in the demo is the _Variational Quantum Eigensolver_ (VQE) algorithm on a 2-qubit Hamiltonian for the H2 molecule. The goal of this algorithm is to minimize the energy of a parameterized quantum state on the Hamiltonian in order to approximate the ground state energy.\n",
    "\n",
    "<div class=\"alert alert-block alert-info\">\n",
    "To execute this notebook, you will need to install: numpy, matplotlib, openfermion, orquestra-core, and orqviz.\n",
    "</div>\n",
    "\n",
    "Links to Orquestra packages:\n",
    "- [orquestra-core](https://github.com/zapatacomputing/orquestra-core)\n",
    "- [orqviz](https://github.com/zapatacomputing/orqviz)\n",
    "\n",
    "#### Version Information\n",
    "\n",
    "| __Software__     | __Version__ |\n",
    "| ---------------- | ----------- |\n",
    "| numpy            | 1.20.3      |\n",
    "| matplotlib       | 3.4.2       |\n",
    "| orquestra-core   | 0.3.0       |\n",
    "| openfermion      | 1.3.0       | \n",
    "\n",
    "Let's get started!"
   ]
  },
  {
   "cell_type": "code",
   "execution_count": 1,
   "id": "f4a433c6",
   "metadata": {},
   "outputs": [],
   "source": [
    "import numpy as np\n",
    "import matplotlib.pyplot as plt"
   ]
  },
  {
   "cell_type": "markdown",
   "id": "87ae8b16",
   "metadata": {},
   "source": [
    "### Load the Hamiltonian"
   ]
  },
  {
   "cell_type": "code",
   "execution_count": 2,
   "id": "31502beb",
   "metadata": {},
   "outputs": [
    {
     "name": "stdout",
     "output_type": "stream",
     "text": [
      "(0.2672918711075522+0j) [] +\n",
      "(0.09019208454797+0j) [X0 X1] +\n",
      "(0.09019208454797+0j) [Y0 Y1] +\n",
      "(0.3528491759440336+0j) [Z0] +\n",
      "(0.5776978208330051+0j) [Z0 Z1] +\n",
      "(-0.4628704661845907+0j) [Z1]\n"
     ]
    }
   ],
   "source": [
    "from openfermion.utils import load_operator\n",
    "\n",
    "H = load_operator(\"h2_ham_2q.data\", \"./data\")\n",
    "print(H)\n",
    "\n",
    "exact_g_energy = -1.145832178075"
   ]
  },
  {
   "cell_type": "markdown",
   "id": "6ae8be88",
   "metadata": {},
   "source": [
    "This Hamiltonian _H_ contains X, Y and Z Pauli operators for two qubits. The goal is to prepare a quantum state, such that the sum of all the Pauli operator expectations with their respective coefficients is as low as possible. The best possible energy one can reach with this Hamiltonian is the exact ground state energy of -1.145832 Hartrees."
   ]
  },
  {
   "cell_type": "markdown",
   "id": "abdf99bc",
   "metadata": {},
   "source": [
    "### Define my circuit\n",
    "\n",
    "Let's import the necessary components to construct our parameterized quantum circuit. Below, we construct a simple two-qubit circuit that comprises RY and CNOT gates. The CNOT gate is applied if there is more than one entangling layer. "
   ]
  },
  {
   "cell_type": "code",
   "execution_count": 3,
   "id": "52ed8d00",
   "metadata": {},
   "outputs": [],
   "source": [
    "from orquestra.quantum.circuits import Circuit, create_layer_of_gates, RY, CNOT, X"
   ]
  },
  {
   "cell_type": "code",
   "execution_count": 4,
   "id": "2a3ca3d8",
   "metadata": {},
   "outputs": [],
   "source": [
    "def get_circuit(parameters, n_entangling_layers=0):\n",
    "    number_of_qubits = 2\n",
    "    parameter_index = 0\n",
    "    circuit = Circuit()\n",
    "    \n",
    "    circuit += X(0)\n",
    "    for ii in range(number_of_qubits):\n",
    "        circuit += RY(parameters[parameter_index])(ii)\n",
    "        parameter_index += 1\n",
    "    \n",
    "    for _ in range(n_entangling_layers):\n",
    "        circuit += CNOT(0, 1)                \n",
    "        for ii in range(number_of_qubits):\n",
    "            circuit += RY(parameters[parameter_index])(ii)\n",
    "            parameter_index += 1\n",
    "            \n",
    "    return circuit"
   ]
  },
  {
   "cell_type": "markdown",
   "id": "09dd6616",
   "metadata": {},
   "source": [
    "### Define my loss function (i.e. energy expectation)\n",
    "\n",
    "The most important routine needed to visualize the loss landscape of variational quantum algorithms is the _loss function_. The loss function takes in a vector of parameters, and returns a float/number which represents the _loss_. The loss function hides all the complicated quantum circuit shenanigans under the hood. Loss functions are sometimes also referred to as _cost functions_. \n",
    "\n",
    "In our VQE example, our loss is the energy, as we want to minimize it. Here, we define the function *calculate_energy*."
   ]
  },
  {
   "cell_type": "code",
   "execution_count": 5,
   "id": "84615f5e",
   "metadata": {},
   "outputs": [],
   "source": [
    "from orquestra.quantum.estimation import calculate_exact_expectation_values\n",
    "from orquestra.quantum.api import EstimationTask\n",
    "\n",
    "def calculate_energy(parameters, n_entangling_layers):\n",
    "    \"\"\"\n",
    "    Function that receives parameters for a quantum circuit, as well as specifications for the circuit depth,\n",
    "    and returns the energy over a previously defined Hamiltonian H.\n",
    "    \"\"\"\n",
    "    circuit = get_circuit(parameters, n_entangling_layers)\n",
    "    task = EstimationTask(H, circuit, number_of_shots=None)\n",
    "    return np.sum(calculate_exact_expectation_values(backend, [task])[0].values)"
   ]
  },
  {
   "cell_type": "markdown",
   "id": "110efb56",
   "metadata": {},
   "source": [
    "As you might have noticed, `calculate_energy` has two inputs – `parameters` and `n_entangling_layers`. However, we said that in `orqviz` your loss function needs to take in only `parameters`. How do we deal with that?\n",
    "\n",
    "There are a couple of ways to do this:\n",
    "- use [`functools.partial`](https://docs.python.org/3/library/functools.html)\n",
    "- define a [closure function](https://www.programiz.com/python-programming/closure)\n",
    "- use our `LossFunctionWrapper` utility tool\n",
    "\n",
    "Let's focus on the last option – we added it to `orqviz` for people who don't feel comfortable with the other two options. `LossFunctionWrapper` is a utility tool which allows you to transform whatever function you want into a orqviz-compatible loss function that takes in only parameters.\n",
    "\n",
    "You just need to set all the other parameters to some constant value, like this:\n",
    "\n",
    "```\n",
    "loss_function = LossFunctionWrapper(calculate_energy, n_entangling_layers=1)\n",
    "```\n",
    "\n",
    "We'll see this in action in a moment."
   ]
  },
  {
   "cell_type": "markdown",
   "id": "f177c428",
   "metadata": {},
   "source": [
    "### Get the simulator backend\n",
    "\n",
    "Now choose the quantum simulator backend to execute our algorithm. We choose _Qulacs_ simulator plugin in Orquestra because it is very fast. We could also choose other available backend plugin that Orquestra has integrated, e.g. the *statevector_simulator* from Qiskit, or built-in `SymbolicSimulator` (it doesn't require any additional installations, but is pretty slow)."
   ]
  },
  {
   "cell_type": "code",
   "execution_count": 6,
   "id": "b874c4e3",
   "metadata": {},
   "outputs": [],
   "source": [
    "# For better performance you might want to use Qulacs simulator\n",
    "from orquestra.integrations.qulacs import QulacsSimulator\n",
    "backend = QulacsSimulator()\n",
    "\n",
    "# from orquestra.quantum.symbolic_simulator import SymbolicSimulator\n",
    "# backend = SymbolicSimulator()\n"
   ]
  },
  {
   "cell_type": "markdown",
   "id": "81d4d3e2",
   "metadata": {},
   "source": [
    "### Specify the quantum circuit \n",
    "\n",
    "We start out with no entanglement (i.e. no entangling operations) in the quantum circuit. This results in only 2 parameters.\n",
    "Additionally, we wrap our loss function with those specifications such that it only receives parameters."
   ]
  },
  {
   "cell_type": "code",
   "execution_count": 7,
   "id": "6b657a88",
   "metadata": {},
   "outputs": [],
   "source": [
    "from orqviz.loss_function import LossFunctionWrapper\n",
    "\n",
    "n_entangling_layers = 0\n",
    "initial_parameters = np.array([ 0.5896798 , -0.53733806])\n",
    "\n",
    "loss_function = LossFunctionWrapper(calculate_energy, n_entangling_layers=n_entangling_layers)"
   ]
  },
  {
   "cell_type": "markdown",
   "id": "b6384117",
   "metadata": {},
   "source": [
    "Let's try computing the energy of our initial parameterized state."
   ]
  },
  {
   "cell_type": "code",
   "execution_count": 8,
   "id": "c9143f1c",
   "metadata": {},
   "outputs": [
    {
     "data": {
      "text/plain": [
       "-0.8104077773325065"
      ]
     },
     "execution_count": 8,
     "metadata": {},
     "output_type": "execute_result"
    }
   ],
   "source": [
    "loss_function(initial_parameters)"
   ]
  },
  {
   "cell_type": "markdown",
   "id": "86e9a62e",
   "metadata": {},
   "source": [
    "As a sidenote, `LossFunctionWrapper` has some additional utilities that you might find useful:"
   ]
  },
  {
   "cell_type": "code",
   "execution_count": 9,
   "id": "22e4241f",
   "metadata": {},
   "outputs": [
    {
     "name": "stdout",
     "output_type": "stream",
     "text": [
      "Call count: 1\n",
      "Min value: -0.8104077773325065\n",
      "Average call time: 0.0017122920000001152\n"
     ]
    }
   ],
   "source": [
    "print(\"Call count:\", loss_function.call_count)\n",
    "print(\"Min value:\", loss_function.min_value)\n",
    "print(\"Average call time:\", loss_function.average_call_time)\n",
    "loss_function.reset() # this resets all the fields printed out above"
   ]
  },
  {
   "cell_type": "markdown",
   "id": "da926268",
   "metadata": {},
   "source": [
    "What does the circuit look like?"
   ]
  },
  {
   "cell_type": "code",
   "execution_count": 10,
   "id": "6f8546d1",
   "metadata": {},
   "outputs": [
    {
     "name": "stdout",
     "output_type": "stream",
     "text": [
      "Circuit(operations=[X(0), RY(0.5896798)(0), RY(-0.53733806)(1)], n_qubits=2)\n"
     ]
    }
   ],
   "source": [
    "circuit = get_circuit(initial_parameters, n_entangling_layers)\n",
    "print(circuit)"
   ]
  },
  {
   "cell_type": "markdown",
   "id": "0f52f0f1",
   "metadata": {},
   "source": [
    "In order to optimize our circuit, we grab a simple gradient descent optimizer from a local python file and a function to calculate a numerical gradient from _orqviz_."
   ]
  },
  {
   "cell_type": "code",
   "execution_count": 11,
   "id": "8a20e553",
   "metadata": {},
   "outputs": [],
   "source": [
    "from gradient_descent_optimizer import gradient_descent_optimizer\n",
    "from orqviz.gradients import calculate_full_gradient\n",
    "\n",
    "def gradient_function(parameters):\n",
    "    return calculate_full_gradient(parameters, loss_function, stochastic=False, eps=1e-3)"
   ]
  },
  {
   "cell_type": "markdown",
   "id": "2d83bcd3",
   "metadata": {},
   "source": [
    "### Optimize the circuit"
   ]
  },
  {
   "cell_type": "code",
   "execution_count": 12,
   "id": "d9415a9a",
   "metadata": {},
   "outputs": [
    {
     "data": {
      "image/png": "[encoded data removed]",
      "text/plain": [
       "<Figure size 432x288 with 1 Axes>"
      ]
     },
     "metadata": {
      "needs_background": "light"
     },
     "output_type": "display_data"
    }
   ],
   "source": [
    "n_iters = 50\n",
    "parameter_trajectory, losses = gradient_descent_optimizer(initial_parameters, \n",
    "                                                          loss_function, \n",
    "                                                          n_iters, \n",
    "                                                          learning_rate=0.2, \n",
    "                                                          full_gradient_function=gradient_function)\n",
    "final_parameters = parameter_trajectory[-1]\n",
    "\n",
    "plt.plot(losses)\n",
    "plt.hlines(exact_g_energy, 0, n_iters, color=\"red\", label=\"Exact Energy\")\n",
    "plt.title(\"Final loss {:.3f}\".format(losses[-1]))\n",
    "plt.legend()\n",
    "plt.show()"
   ]
  },
  {
   "cell_type": "markdown",
   "id": "cccd401c",
   "metadata": {},
   "source": [
    "This yields a final energy error of:"
   ]
  },
  {
   "cell_type": "code",
   "execution_count": 13,
   "id": "16193452",
   "metadata": {},
   "outputs": [
    {
     "data": {
      "text/plain": [
       "0.01970658635894007"
      ]
     },
     "execution_count": 13,
     "metadata": {},
     "output_type": "execute_result"
    }
   ],
   "source": [
    "np.min(losses)-exact_g_energy"
   ]
  },
  {
   "cell_type": "markdown",
   "id": "1e5da2a4",
   "metadata": {},
   "source": [
    "What do we know about the problem so far? We know that optimizing with gradient descent is straightforward, but we haven't converged to a very good solution. Can we expect a solution better than this? Is this just a local minimum? VQE problems typically require a solution with error that is on the order of $10^{-3}$ Hartrees. \n",
    "\n",
    "For a better understanding of the problem and the optimization, we will use various methods from _orqviz_ in the following cells."
   ]
  },
  {
   "cell_type": "markdown",
   "id": "ec2de59f",
   "metadata": {},
   "source": [
    "### Import visualization methods and start plotting\n",
    "\n",
    "First, let's interpolate between the initial and solution parameters to get a feel of the landscape that we are trying to traverse."
   ]
  },
  {
   "cell_type": "code",
   "execution_count": 14,
   "id": "8e642a0c",
   "metadata": {},
   "outputs": [],
   "source": [
    "from orqviz.scans import perform_1D_interpolation, plot_1D_interpolation_result, eval_points_on_path"
   ]
  },
  {
   "cell_type": "code",
   "execution_count": 15,
   "id": "f4ab242a",
   "metadata": {},
   "outputs": [
    {
     "data": {
      "image/png": "[encoded data removed]",
      "text/plain": [
       "<Figure size 432x288 with 1 Axes>"
      ]
     },
     "metadata": {
      "needs_background": "light"
     },
     "output_type": "display_data"
    }
   ],
   "source": [
    "end_points = (-0.5, 1.5)\n",
    "\n",
    "interpolation_result = perform_1D_interpolation(initial_parameters, final_parameters, \n",
    "                                                loss_function, end_points=end_points)\n",
    "\n",
    "plot_1D_interpolation_result(interpolation_result, label=\"linear interpolation\", color=\"gray\")\n",
    "\n",
    "plt.legend()\n",
    "plt.show()"
   ]
  },
  {
   "cell_type": "markdown",
   "id": "69c165d4",
   "metadata": {},
   "source": [
    "The red lines indicate the points you interpolate between, i.e. initial and final parameters.\n",
    "\n",
    "This looks very nice and convex. But is this all there is to see? Let's see this in 2D!"
   ]
  },
  {
   "cell_type": "code",
   "execution_count": 16,
   "id": "71c3bafa",
   "metadata": {},
   "outputs": [],
   "source": [
    "from orqviz.scans import perform_2D_scan, plot_2D_scan_result"
   ]
  },
  {
   "cell_type": "code",
   "execution_count": 17,
   "id": "2f7079ef",
   "metadata": {},
   "outputs": [
    {
     "data": {
      "image/png": "[encoded data removed]",
      "text/plain": [
       "<Figure size 432x288 with 2 Axes>"
      ]
     },
     "metadata": {
      "needs_background": "light"
     },
     "output_type": "display_data"
    }
   ],
   "source": [
    "dir1 = np.array([1., 0.])\n",
    "dir2 = np.array([0., 1.])\n",
    "\n",
    "scan_2D_result = perform_2D_scan(final_parameters, loss_function, \n",
    "                                 direction_x=dir1, direction_y=dir2, n_steps_x=40)\n",
    "\n",
    "plot_2D_scan_result(scan_2D_result)"
   ]
  },
  {
   "cell_type": "markdown",
   "id": "717e8a2d",
   "metadata": {},
   "source": [
    "Even in 2D it looks very well-behaved. We only have two parameters, so this plot is the exact landscape we are optimizing.\n",
    "\n",
    "But what was the path that we optimized? Let's see it with Principal Component Analysis (PCA)! In the case of 2 parameters, running PCA is a bit silly, but these plots can be useful for visualizing high-dimensional landscapes. We show the code for running PCA below, and this should work for any loss landscape with >2 parameters."
   ]
  },
  {
   "cell_type": "code",
   "execution_count": 18,
   "id": "a1d1c745",
   "metadata": {},
   "outputs": [],
   "source": [
    "from orqviz.pca import (get_pca, perform_2D_pca_scan, plot_pca_landscape, \n",
    "                        plot_optimization_trajectory_on_pca)"
   ]
  },
  {
   "cell_type": "code",
   "execution_count": 19,
   "id": "1c4920c9",
   "metadata": {},
   "outputs": [],
   "source": [
    "pca = get_pca(parameter_trajectory)\n",
    "scan_pca_result = perform_2D_pca_scan(pca, loss_function, n_steps_x=40)"
   ]
  },
  {
   "cell_type": "markdown",
   "id": "78fd2560",
   "metadata": {},
   "source": [
    "Note that our plotting functions allow for full flexibility with matplotlib. Any keywords that you would pass for plotting manually, you can pass to our plotting functions."
   ]
  },
  {
   "cell_type": "code",
   "execution_count": 20,
   "id": "da3e3534",
   "metadata": {},
   "outputs": [
    {
     "data": {
      "image/png": "[encoded data removed]",
      "text/plain": [
       "<Figure size 432x288 with 2 Axes>"
      ]
     },
     "metadata": {
      "needs_background": "light"
     },
     "output_type": "display_data"
    }
   ],
   "source": [
    "fig, ax = plt.subplots()\n",
    "plot_pca_landscape(scan_pca_result, pca, fig=fig, ax=ax)\n",
    "plot_optimization_trajectory_on_pca(parameter_trajectory, pca, ax=ax, \n",
    "                                    label=\"Optimization Trajectory\", color=\"lightsteelblue\")\n",
    "plt.legend()\n",
    "plt.show()"
   ]
  },
  {
   "cell_type": "markdown",
   "id": "029089d1",
   "metadata": {},
   "source": [
    "Because the landscape is so simple, optimization moves almost in a straight line."
   ]
  },
  {
   "cell_type": "markdown",
   "id": "21b0ddd8",
   "metadata": {},
   "source": [
    "### Let's zoom out a little!\n",
    "\n",
    "We can do so by setting the `offset` to a higher number. `offset` is the distance we leave between the edges of our trajectory and the border of the scan."
   ]
  },
  {
   "cell_type": "code",
   "execution_count": null,
   "id": "d1e709b4",
   "metadata": {},
   "outputs": [],
   "source": [
    "scan_pca_result2 = perform_2D_pca_scan(pca, loss_function, n_steps_x=50, offset=8)"
   ]
  },
  {
   "cell_type": "code",
   "execution_count": null,
   "id": "69e0a39c",
   "metadata": {},
   "outputs": [],
   "source": [
    "fig, ax = plt.subplots()\n",
    "plot_pca_landscape(scan_pca_result2, pca, fig=fig, ax=ax)\n",
    "plot_optimization_trajectory_on_pca(parameter_trajectory, pca, ax=ax)"
   ]
  },
  {
   "cell_type": "markdown",
   "id": "9ebf7049",
   "metadata": {},
   "source": [
    "With this two-dimensional loss landscape, we can see the periodicity and notice that we do not sit in a bad local minimum. "
   ]
  },
  {
   "cell_type": "markdown",
   "id": "46c5a117",
   "metadata": {},
   "source": [
    "### How about adding more layers in the quantum circuit?\n",
    "\n",
    "So far, we didn't include any entanglement in the quantum circuit. We will change this now!"
   ]
  },
  {
   "cell_type": "code",
   "execution_count": null,
   "id": "25aa22ee",
   "metadata": {},
   "outputs": [],
   "source": [
    "n_entangling_layers2 = 1\n",
    "\n",
    "initial_parameters2 = np.array([ 1.12840278, -1.85964912, -1.1847599 ,  1.27278466])\n",
    "\n",
    "loss_function2 = LossFunctionWrapper(calculate_energy, n_entangling_layers=n_entangling_layers2)\n",
    "\n",
    "def gradient_function2(parameters):\n",
    "    return calculate_full_gradient(parameters, loss_function2, stochastic=False, eps=1e-3)"
   ]
  },
  {
   "cell_type": "markdown",
   "id": "8a915db3",
   "metadata": {},
   "source": [
    "The algorithm now has a 4-dimensional loss landscape. How do we even visualize that? In the exact same way! Our functions are fully flexible.\n",
    "\n",
    "### Optimize again!"
   ]
  },
  {
   "cell_type": "code",
   "execution_count": null,
   "id": "c9289a26",
   "metadata": {},
   "outputs": [],
   "source": [
    "n_iters = 50\n",
    "parameter_trajectory2, losses2 = gradient_descent_optimizer(initial_parameters2, \n",
    "                                                            loss_function2, \n",
    "                                                            n_iters, \n",
    "                                                            learning_rate=0.2, \n",
    "                                                            full_gradient_function=gradient_function2)\n",
    "final_parameters2 = parameter_trajectory2[-1]"
   ]
  },
  {
   "cell_type": "code",
   "execution_count": null,
   "id": "cbeb15a4",
   "metadata": {},
   "outputs": [],
   "source": [
    "plt.plot(losses2)\n",
    "plt.hlines(exact_g_energy, 0, n_iters, color=\"red\", label=\"Exact Energy\")\n",
    "plt.title(\"Final loss {:.4f}\".format(losses2[-1]))\n",
    "plt.legend()\n",
    "plt.show()"
   ]
  },
  {
   "cell_type": "markdown",
   "id": "267c331c",
   "metadata": {},
   "source": [
    "Much better! We have a final energy error of:"
   ]
  },
  {
   "cell_type": "code",
   "execution_count": null,
   "id": "c0d66986",
   "metadata": {},
   "outputs": [],
   "source": [
    "np.min(losses2)-exact_g_energy"
   ]
  },
  {
   "cell_type": "code",
   "execution_count": null,
   "id": "c318adc7",
   "metadata": {},
   "outputs": [],
   "source": [
    "end_points = (-0.5, 1.5)\n",
    "\n",
    "interpolation_result2 = perform_1D_interpolation(initial_parameters2, final_parameters2, \n",
    "                                                loss_function2, end_points=end_points)\n",
    "plot_1D_interpolation_result(interpolation_result2, label=\"linear interpolation\", color=\"gray\")\n",
    "\n",
    "plt.legend()\n",
    "plt.show()"
   ]
  },
  {
   "cell_type": "markdown",
   "id": "dcbac74a",
   "metadata": {},
   "source": [
    "How did we traverse the loss landscape this time?"
   ]
  },
  {
   "cell_type": "code",
   "execution_count": null,
   "id": "8ebd474f",
   "metadata": {},
   "outputs": [],
   "source": [
    "%%time\n",
    "\n",
    "pca2 = get_pca(parameter_trajectory2)\n",
    "scan_pca_result3 = perform_2D_pca_scan(pca2, loss_function2, n_steps_x=50, offset=2)\n",
    "\n",
    "fig, ax = plt.subplots()\n",
    "plot_pca_landscape(scan_pca_result3, pca2, fig=fig, ax=ax)\n",
    "plot_optimization_trajectory_on_pca(parameter_trajectory2, pca2, ax=ax)"
   ]
  },
  {
   "cell_type": "markdown",
   "id": "125057c3",
   "metadata": {},
   "source": [
    "This looks a little more complicated but still rather smooth. Note that with 4 parameters, this 2D scan is no longer an exact representation of the loss landscape. The scan is computing the loss on a 2D plane that \"slices\" the 4D space, and the parameter trajectory is _projected_ on the scan. The x and y labels indicate how representative the scan directions are for the trajectory and how big the degree of approximation is when projecting.\n",
    "\n",
    "Let's try zooming out again by increasing the `offset`:"
   ]
  },
  {
   "cell_type": "code",
   "execution_count": null,
   "id": "ca96b413",
   "metadata": {},
   "outputs": [],
   "source": [
    "%%time\n",
    "\n",
    "scan_pca_result4 = perform_2D_pca_scan(pca2, loss_function2, n_steps_x=50, offset=10)\n",
    "\n",
    "fig, ax = plt.subplots()\n",
    "plot_pca_landscape(scan_pca_result4, pca2, fig=fig, ax=ax)\n",
    "plot_optimization_trajectory_on_pca(parameter_trajectory2, pca2, ax=ax)"
   ]
  },
  {
   "cell_type": "markdown",
   "id": "d3f36052",
   "metadata": {},
   "source": [
    "This looks much more involved and is no longer exactly periodic in the directions of our scan.\n",
    "\n",
    "_orqviz_ offers more than these simpler scans to help us understand the loss landscapes!"
   ]
  },
  {
   "cell_type": "markdown",
   "id": "c385982d",
   "metadata": {},
   "source": [
    "### What does the Hessian tell us?"
   ]
  },
  {
   "cell_type": "code",
   "execution_count": null,
   "id": "ed0fa951",
   "metadata": {},
   "outputs": [],
   "source": [
    "from orqviz.hessians import get_Hessian"
   ]
  },
  {
   "cell_type": "markdown",
   "id": "aac00f20",
   "metadata": {},
   "source": [
    "The function *get_Hessian* returns a numerically calculated Hessian of the loss function at a specified point in parameter space. The Hessian is a matrix of second partial derivatives of the loss, and as such, contains information about the _curvature_. "
   ]
  },
  {
   "cell_type": "code",
   "execution_count": null,
   "id": "af448068",
   "metadata": {},
   "outputs": [],
   "source": [
    "%%time\n",
    "hessian1 = get_Hessian(params=final_parameters, loss_function=loss_function, eps=1e-3)\n",
    "hessian2 = get_Hessian(params=final_parameters2, loss_function=loss_function2, eps=1e-3)"
   ]
  },
  {
   "cell_type": "markdown",
   "id": "81fb82ab",
   "metadata": {},
   "source": [
    "Calculating Hessians can be very expensive, as the number of loss function evaluations scales **quadratically** with the number of parameters. This is why _orqviz_ also provides an approximation of the Hessian with *get_Hessian_SPSA_approximation*. But let's not get ahead of ourselves. For now, this is very fast!\n",
    "\n",
    "What are the eigenvalues of the Hessian?"
   ]
  },
  {
   "cell_type": "code",
   "execution_count": null,
   "id": "f88365cc",
   "metadata": {},
   "outputs": [],
   "source": [
    "plt.plot(hessian1.eigenvalues, label=f\"Eigenvalues with {n_entangling_layers} entangling layers\", \n",
    "         alpha=0.9, linewidth=1, marker=\"s\", ms=10)\n",
    "plt.plot(hessian2.eigenvalues, label=f\"Eigenvalues with {n_entangling_layers2} entangling layer\", \n",
    "         alpha=0.9, linewidth=1, marker=\"o\")\n",
    "plt.legend()\n",
    "plt.ylim(0,2)\n",
    "plt.title(\"Hessian Eigenvalues around the found solution\")\n",
    "plt.xlabel(\"Order of eigenvalue (sorted)\")\n",
    "plt.ylabel(\"Magnitude of eigenvalue\")\n",
    "plt.show()"
   ]
  },
  {
   "cell_type": "markdown",
   "id": "87ffba3a",
   "metadata": {},
   "source": [
    "All eigenvalues are positive, which means that the Hessian is _positive-definite_ and we are in a convex region.\n",
    "\n",
    "We can also scan in the direction of the eigenvectors to see what it means to be in a convex region."
   ]
  },
  {
   "cell_type": "code",
   "execution_count": null,
   "id": "795ed4c7",
   "metadata": {},
   "outputs": [],
   "source": [
    "from orqviz.hessians import perform_1D_hessian_eigenvector_scan, plot_1D_hessian_eigenvector_scan_result"
   ]
  },
  {
   "cell_type": "code",
   "execution_count": null,
   "id": "f406fd99",
   "metadata": {},
   "outputs": [],
   "source": [
    "hessian1_eigvec_scans = perform_1D_hessian_eigenvector_scan(hessian1, loss_function, n_points=31)\n",
    "hessian2_eigvec_scans = perform_1D_hessian_eigenvector_scan(hessian2, loss_function2, n_points=31)"
   ]
  },
  {
   "cell_type": "code",
   "execution_count": null,
   "id": "a1a48907",
   "metadata": {},
   "outputs": [],
   "source": [
    "fig, (ax1, ax2) = plt.subplots(1, 2, figsize=(12,4))\n",
    "\n",
    "plot_1D_hessian_eigenvector_scan_result(hessian1_eigvec_scans, eigenvalues=hessian1.eigenvalues, ax=ax1)\n",
    "plot_1D_hessian_eigenvector_scan_result(hessian2_eigvec_scans, eigenvalues=hessian2.eigenvalues, ax=ax2)\n",
    "\n",
    "ax1.set_ylim(-1.2,1.0)\n",
    "ax2.set_ylim(-1.2,1.0)\n",
    "ax1.set_title(\"Without entangling\")\n",
    "ax2.set_title(\"With one entangling Layer\")\n",
    "plt.show()"
   ]
  },
  {
   "cell_type": "markdown",
   "id": "73a323d2",
   "metadata": {},
   "source": [
    "We see the energy mostly increases around our found solution when we scan in the directions of the Hessian eigenvectors. The respective eigenvalues of the eigenvectors are shown in the plot legend. We also see that there seem to be extensive low-energy regions around our solution. A 2D eigenvector scan can help us visualize that! Here we choose the eigenvectors as scan directions for 2D scans. "
   ]
  },
  {
   "cell_type": "code",
   "execution_count": null,
   "id": "0949b499",
   "metadata": {},
   "outputs": [],
   "source": [
    "# A helper function to normalize the color ranges of the scans\n",
    "from orqviz.plot_utils import normalize_color_and_colorbar"
   ]
  },
  {
   "cell_type": "code",
   "execution_count": null,
   "id": "b9ef03af",
   "metadata": {},
   "outputs": [],
   "source": [
    "%%time\n",
    "scale_factor = np.pi  # how much to scan in the direction? The eigenvectors are normalized.\n",
    "\n",
    "scan_hess2_low = perform_2D_scan(parameter_trajectory2[-1], loss_function2, \n",
    "                                 direction_x=hessian2.eigenvectors[0]*scale_factor, \n",
    "                                 direction_y=hessian2.eigenvectors[1]*scale_factor,\n",
    "                                 n_steps_x=40)\n",
    "scan_hess2_high = perform_2D_scan(parameter_trajectory2[-1], loss_function2, \n",
    "                                 direction_x=hessian2.eigenvectors[-1]*scale_factor, \n",
    "                                 direction_y=hessian2.eigenvectors[-2]*scale_factor,\n",
    "                                 n_steps_x=40)\n",
    "\n",
    "fig, (ax1, ax2) = plt.subplots(1, 2, figsize=(10,4))\n",
    "plot_2D_scan_result(scan_hess2_low, fig=fig, ax=ax1)\n",
    "plot_2D_scan_result(scan_hess2_high, fig=fig, ax=ax2)\n",
    "\n",
    "normalize_color_and_colorbar(fig=fig, ax=ax1, min_val=-1.2, max_val=1)\n",
    "normalize_color_and_colorbar(fig=fig, ax=ax2, min_val=-1.2, max_val=1)\n",
    "\n",
    "ax1.set_title(\"Scan in directions of minimal curvature\")\n",
    "ax2.set_title(\"Scan in directions of maximal curvature\")\n",
    "plt.tight_layout()\n",
    "plt.show()"
   ]
  },
  {
   "cell_type": "markdown",
   "id": "13a174bc",
   "metadata": {},
   "source": [
    "Informed by the Hessian, we were able to choose scan directions in which the loss increases very slowly or very quickly! \n",
    "\n",
    "Does this mean that there are low-energy paths throughout the landscape? Let's test this with the _Nudged Elastic Band_ in our _orqviz_ package.\n",
    "\n",
    "But first...\n",
    "\n",
    "### Find a second solution for the case with entanglement"
   ]
  },
  {
   "cell_type": "code",
   "execution_count": null,
   "id": "d022e477",
   "metadata": {},
   "outputs": [],
   "source": [
    "n_iters = 50\n",
    "initial_parameters3 = initial_parameters2 + np.array([-1.7, -2.3, -3.1,  2.8])\n",
    "\n",
    "parameter_trajectory3, losses3 = gradient_descent_optimizer(initial_parameters3, loss_function2, n_iters, \n",
    "                                                          learning_rate=0.2, full_gradient_function=gradient_function2)\n",
    "final_parameters3 = parameter_trajectory3[-1]\n",
    "\n",
    "plt.plot(losses3)\n",
    "plt.hlines(exact_g_energy, 0, n_iters, color=\"red\", label=\"Exact Energy\")\n",
    "plt.title(\"Final loss {:.3f}\".format(losses3[-1]))\n",
    "plt.legend()\n",
    "plt.show()"
   ]
  },
  {
   "cell_type": "markdown",
   "id": "32c2fcd5",
   "metadata": {},
   "source": [
    "Let's run PCA's on both optimization trajectories to see where they went."
   ]
  },
  {
   "cell_type": "code",
   "execution_count": null,
   "id": "b23bda2b",
   "metadata": {},
   "outputs": [],
   "source": [
    "%%time\n",
    "\n",
    "pca3 = get_pca(np.append(parameter_trajectory2, parameter_trajectory3, axis=0))\n",
    "scan_pca_result5 = perform_2D_pca_scan(pca3, loss_function2, n_steps_x=50, offset=3)\n",
    "\n",
    "fig, ax = plt.subplots()\n",
    "plot_pca_landscape(scan_pca_result5, pca3, fig=fig, ax=ax)\n",
    "plot_optimization_trajectory_on_pca(parameter_trajectory2, pca3, ax=ax, color=\"red\", label=\"The first trajectory\")\n",
    "plot_optimization_trajectory_on_pca(parameter_trajectory3, pca3, ax=ax, color=\"green\", label=\"The second trajectory\")\n",
    "plt.legend()\n",
    "plt.show()"
   ]
  },
  {
   "cell_type": "markdown",
   "id": "5a6760ed",
   "metadata": {},
   "source": [
    "This doesn't look like the two found solutions are connected at all... or are they?"
   ]
  },
  {
   "cell_type": "markdown",
   "id": "e6d04640",
   "metadata": {},
   "source": [
    "### Get the Nudged Elastic Band going!"
   ]
  },
  {
   "cell_type": "code",
   "execution_count": null,
   "id": "90fb2b09",
   "metadata": {},
   "outputs": [],
   "source": [
    "from orqviz.elastic_band import Chain, ChainPath, run_NEB"
   ]
  },
  {
   "cell_type": "code",
   "execution_count": null,
   "id": "2a609ba9",
   "metadata": {},
   "outputs": [],
   "source": [
    "initial_chain = Chain(np.linspace(final_parameters2, final_parameters3, num=10))\n",
    "initial_path = ChainPath(initial_chain)\n",
    "\n",
    "all_chains = run_NEB(initial_chain, loss_function2, \n",
    "                     n_iters=100, eps=1e-3, learning_rate=0.1)\n",
    "trained_chain = all_chains[-1]\n",
    "trained_path = ChainPath(trained_chain)"
   ]
  },
  {
   "cell_type": "code",
   "execution_count": null,
   "id": "0fc6640f",
   "metadata": {},
   "outputs": [],
   "source": [
    "linear_loss = initial_path.evaluate_points_on_path(50, loss_function2)\n",
    "trained_loss = trained_path.evaluate_points_on_path(50, loss_function2)\n",
    "\n",
    "plt.plot(np.linspace(0,1,50), linear_loss, label=\"Linear Interpolation\")\n",
    "plt.plot(np.linspace(0,1,50), trained_loss, label=\"Optimized Path\")\n",
    "plt.ylabel(\"Energy\")\n",
    "plt.xlabel(\"Position on Path\")\n",
    "plt.legend()\n",
    "plt.ylim(-1.2, 0.6)\n",
    "plt.show()"
   ]
  },
  {
   "cell_type": "markdown",
   "id": "f57b2d49",
   "metadata": {},
   "source": [
    "There seems to be a path connecting the two found minima! Let's see it with PCA."
   ]
  },
  {
   "cell_type": "code",
   "execution_count": null,
   "id": "47e79445",
   "metadata": {},
   "outputs": [],
   "source": [
    "pca_from_chain = get_pca(trained_chain.pivots)\n",
    "pca_chain_scan = perform_2D_pca_scan(pca_from_chain, loss_function2, n_steps_x=40, offset=3)"
   ]
  },
  {
   "cell_type": "code",
   "execution_count": null,
   "id": "9d6754c9",
   "metadata": {},
   "outputs": [],
   "source": [
    "from orqviz.pca import plot_line_through_points_on_pca, plot_scatter_points_on_pca"
   ]
  },
  {
   "cell_type": "code",
   "execution_count": null,
   "id": "bb04f7cc",
   "metadata": {},
   "outputs": [],
   "source": [
    "fig, ax = plt.subplots()\n",
    "plot_pca_landscape(pca_chain_scan, pca_from_chain, fig=fig, ax=ax)\n",
    "plot_line_through_points_on_pca(trained_chain.pivots, pca_from_chain, ax=ax, linewidth=3, color=\"tab:orange\")"
   ]
  },
  {
   "cell_type": "markdown",
   "id": "0481792c",
   "metadata": {},
   "source": [
    "This looks very impressive! But the points seem very far apart. Given the periodicity of the gate parameters in our circuit, couldn't there be a shorter path? \n",
    "\n",
    "In fact, yes! Visualization techniques partially rely on respecting the symmetries of the loss function in order to produce the most valuable outcome. In the case of parameterized quantum circuits with Pauli gates like $Rx, Ry,$ and $Ry$,  all parameters are $2\\pi$-periodic, meaning that we get the same loss (and the same state) if we add multiples of $2\\pi$ to any or all parameters. Not only that, but the \"shortest path\" between two points in this periodic space is affected even more. _orqviz_ provides the following functions to _wrap_ parameters according to the periodicity of the parameters:"
   ]
  },
  {
   "cell_type": "code",
   "execution_count": null,
   "id": "be603c2c",
   "metadata": {},
   "outputs": [],
   "source": [
    "from orqviz.geometric import relative_periodic_wrap, relative_periodic_trajectory_wrap"
   ]
  },
  {
   "cell_type": "markdown",
   "id": "083d9793",
   "metadata": {},
   "source": [
    "`relative_periodic_wrap` wraps a point to the closest copy of itself with respect to a reference point. `relative_periodic_trajectory_wrap` wraps a parameter trajectory to a copy of itself such that the final point is the closest copy to a reference point. If we apply that to the two solutions that we found, this is what we get:"
   ]
  },
  {
   "cell_type": "code",
   "execution_count": null,
   "id": "6f1d5379",
   "metadata": {},
   "outputs": [],
   "source": [
    "%%time\n",
    "\n",
    "wrapped_parameter_trajectory3 = relative_periodic_trajectory_wrap(final_parameters2, parameter_trajectory3)\n",
    "\n",
    "pca3 = get_pca(np.append(parameter_trajectory2, wrapped_parameter_trajectory3, axis=0))\n",
    "scan_pca_result5 = perform_2D_pca_scan(pca3, loss_function2, n_steps_x=50, offset=3)\n",
    "\n",
    "fig, ax = plt.subplots()\n",
    "plot_pca_landscape(scan_pca_result5, pca3, fig=fig, ax=ax)\n",
    "plot_optimization_trajectory_on_pca(parameter_trajectory2, pca3, ax=ax, color=\"red\", label=\"The first trajectory\")\n",
    "plot_optimization_trajectory_on_pca(wrapped_parameter_trajectory3, pca3, ax=ax, color=\"green\", label=\"The second trajectory\")\n",
    "plt.legend()\n",
    "plt.show()"
   ]
  },
  {
   "cell_type": "code",
   "execution_count": null,
   "id": "c9b7e43f",
   "metadata": {},
   "outputs": [],
   "source": [
    "wrapped_final_parameters3 = relative_periodic_wrap(final_parameters2, final_parameters3)\n",
    "\n",
    "initial_chain2 = Chain(np.linspace(final_parameters2, wrapped_final_parameters3, num=10))\n",
    "initial_path2 = ChainPath(initial_chain2)\n",
    "###\n",
    "all_chains2 = run_NEB(initial_chain2, loss_function2, n_iters=100, eps=1e-3, learning_rate=0.1)\n",
    "trained_chain2 = all_chains2[-1]\n",
    "trained_path2 = ChainPath(trained_chain2)\n",
    "###\n",
    "linear_loss2 = initial_path2.evaluate_points_on_path(50, loss_function2)\n",
    "trained_loss2 = trained_path2.evaluate_points_on_path(50, loss_function2)\n",
    "###\n",
    "plt.plot(np.linspace(0,1,50), linear_loss2, label=\"Linear Interpolation\")\n",
    "plt.plot(np.linspace(0,1,50), trained_loss2, label=\"Optimized Path\")\n",
    "plt.ylabel(\"Energy\")\n",
    "plt.xlabel(\"Position on Path\")\n",
    "plt.legend()\n",
    "plt.ylim(-1.2, 0.6)\n",
    "plt.show()\n",
    "###\n",
    "pca_from_chain2 = get_pca(trained_chain2.pivots)\n",
    "pca_chain_scan2 = perform_2D_pca_scan(pca_from_chain2, loss_function2, n_steps_x=40, offset=3)\n",
    "###\n",
    "fig, ax = plt.subplots()\n",
    "plot_pca_landscape(pca_chain_scan2, pca_from_chain2, fig=fig, ax=ax)\n",
    "plot_line_through_points_on_pca(trained_chain2.pivots, pca_from_chain2, ax=ax, linewidth=3, color=\"tab:orange\")"
   ]
  },
  {
   "cell_type": "markdown",
   "id": "ff6b45cb",
   "metadata": {},
   "source": [
    "The points were not separated by very high energy regions after all. \n",
    "\n",
    "This is a much richer picture than what we would have initially expected from just observing the optimization performance for 0 and 1 entangling layers (i.e. plotting the energy as a function of training epochs). Don't you agree?\n",
    "\n",
    "### For more ways to analyze loss landscapes of parameterized quantum circuits, check out the rest of the _orqviz_ package!"
   ]
  }
 ],
 "metadata": {
  "kernelspec": {
   "display_name": "Python 3.10.0 64-bit",
   "language": "python",
   "name": "python3"
  },
  "language_info": {
   "codemirror_mode": {
    "name": "ipython",
    "version": 3
   },
   "file_extension": ".py",
   "mimetype": "text/x-python",
   "name": "python",
   "nbconvert_exporter": "python",
   "pygments_lexer": "ipython3",
   "version": "3.10.0"
  },
  "vscode": {
   "interpreter": {
    "hash": "26de051ba29f2982a8de78e945f0abaf191376122a1563185a90213a26c5da77"
   }
  }
 },
 "nbformat": 4,
 "nbformat_minor": 5
}
